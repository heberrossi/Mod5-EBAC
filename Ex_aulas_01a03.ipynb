{
  "cells": [
    {
      "cell_type": "markdown",
      "metadata": {
        "id": "a7nDQKk0Vq0t"
      },
      "source": [
        "# Módulo 5 Tarefa 1\n",
        "## Base de nascidos vivos do DataSUS\n",
        "O DataSUS disponibiliza diversos arquivos de dados com relação a seus segurados, conforme a [lei da transparência de informações públicas](https://www.sisgov.com/transparencia-acesso-informacao/#:~:text=A%20Lei%20da%20Transpar%C3%AAncia%20(LC,em%20um%20site%20na%20internet.).\n",
        "\n",
        "Essas informações podem ser obtidas pela internet [aqui](http://www2.datasus.gov.br/DATASUS/index.php?area=0901&item=1). Como o processo de obtenção desses arquivos foge um pouco do nosso escopo, deixamos o arquivo ```SINASC_RO_2019.csv``` já como vai ser encontrado no DataSUS. O dicionário de dados está no arquivo ```estrutura_sinasc_para_CD.pdf``` (o nome do arquivo tal qual no portal do DataSUS).\n",
        "\n",
        "### Nosso objetivo\n",
        "Queremos deixar uma base organizada para podermos estudar a relação entre partos com risco para o bebê e algumas condições como tempo de parto, consultas de pré-natal etc.\n",
        "\n",
        "#### Preparação da base\n",
        "1. Carregue a base 'SINASC_RO_2019.csv'. Conte o número de registros e o número de registros não duplicados da base. Dica: você aprendeu um método que remove duplicados, encadeie este método com um outro método que conta o número de linhas. **Há linhas duplicadas?**  \n",
        "\n",
        "2. Conte o número de valores *missing* por variável.  \n",
        "\n",
        "3. Ok, no item anterior você deve ter achado pouco prático ler a informação de tantas variáveis, muitas delas nem devem ser interesantes. Então crie uma seleção dessa base somente com as colunas que interessam. São elas:\n",
        "```\n",
        "['LOCNASC', 'IDADEMAE', 'ESTCIVMAE', 'ESCMAE', 'QTDFILVIVO',\n",
        "    'GESTACAO', 'GRAVIDEZ', 'CONSULTAS', 'APGAR5']\n",
        "```\n",
        "Refaça a contagem de valores *missings*.  \n",
        "\n",
        "4. Apgar é uma *nota* que o pediatra dá ao bebê quando nasce de acordo com algumas características associadas principalmente à respiração. Apgar 1 e Apgar 5 são as notas 1 e 5 minutos do nascimento. Apgar5 será a nossa variável de interesse principal. Então remova todos os registros com Apgar5 não preenchido. Para esta seleção, conte novamente o número de linhas e o número de *missings*.  \n",
        "\n",
        "5. observe que as variáveis ```['ESTCIVMAE', 'CONSULTAS']``` possuem o código ```9```, que significa *ignorado*. Vamos assumir que o não preenchido é o mesmo que o código ```9```.<br>\n",
        "6. Substitua os valores faltantes da quantitativa (```QTDFILVIVO```) por zero.  \n",
        "7. Das restantes, decida que valore te parece mais adequado (um 'não preenchido' ou um valor 'mais provável' como no item anterior) e preencha. Justifique. Lembre-se de que tratamento de dados é trabalho do cientista, e que estamos tomando decisões a todo o momento - não há necessariamente certo e errado aqui.  \n",
        "8. O Apgar possui uma classificação indicando se o bebê passou por asfixia:\n",
        "- Entre 8 e 10 está em uma faixa 'normal'.\n",
        "- Entre 6 e 7, significa que o recém-nascido passou por 'asfixia leve'.\n",
        "- Entre 4 e 5 significa 'asfixia moderada'.\n",
        "- Entre 0 e 3 significa 'asfixia severa'.  \n",
        "\n",
        "Crie uma categorização dessa variável com essa codificação e calcule as frequências dessa categorização.  \n",
        "<br>\n",
        "9. Renomeie as variáveis para que fiquem no *snake case*, ou seja, em letras minúsculas, com um *underscore* entre as palávras. Dica: repare que se você não quiser criar um *dataframe* novo, você vai precisar usar a opção ```inplace = True```."
      ]
    },
    {
      "cell_type": "code",
      "execution_count": 1,
      "metadata": {
        "colab": {
          "base_uri": "https://localhost:8080/"
        },
        "id": "Kn-bD4NnVq0w",
        "outputId": "1ebf23e8-2b83-4dee-f4fb-5827eabc90a7"
      },
      "outputs": [
        {
          "output_type": "stream",
          "name": "stdout",
          "text": [
            "(27028, 69)\n"
          ]
        },
        {
          "output_type": "execute_result",
          "data": {
            "text/plain": [
              "(27028, 69)"
            ]
          },
          "metadata": {},
          "execution_count": 1
        }
      ],
      "source": [
        "import pandas as pd\n",
        "import requests\n",
        "\n",
        "# 1) seu código aqui\n",
        "sinasc = pd.read_csv('SINASC_RO_2019.csv')\n",
        "print(sinasc.shape)\n",
        "sinasc.drop_duplicates().shape\n",
        "# Não há duplicados"
      ]
    },
    {
      "cell_type": "code",
      "execution_count": 2,
      "metadata": {
        "colab": {
          "base_uri": "https://localhost:8080/"
        },
        "id": "7BLEvW09Vq0x",
        "outputId": "7988674a-146c-463d-d2ba-bbf553f10f12"
      },
      "outputs": [
        {
          "output_type": "execute_result",
          "data": {
            "text/plain": [
              "ORIGEM          0\n",
              "CODESTAB      115\n",
              "CODMUNNASC      0\n",
              "LOCNASC         0\n",
              "IDADEMAE        0\n",
              "             ... \n",
              "munResUf        0\n",
              "munResLat       1\n",
              "munResLon       1\n",
              "munResAlt       1\n",
              "munResArea      1\n",
              "Length: 69, dtype: int64"
            ]
          },
          "metadata": {},
          "execution_count": 2
        }
      ],
      "source": [
        "# 2) seu código aqui\n",
        "df = sinasc\n",
        "df.isna().sum()"
      ]
    },
    {
      "cell_type": "code",
      "execution_count": 3,
      "metadata": {
        "colab": {
          "base_uri": "https://localhost:8080/"
        },
        "id": "9NYx27pMVq0x",
        "outputId": "e455744f-ec42-470f-c618-b3f18f195dc1"
      },
      "outputs": [
        {
          "output_type": "execute_result",
          "data": {
            "text/plain": [
              "LOCNASC          0\n",
              "IDADEMAE         0\n",
              "ESTCIVMAE      317\n",
              "ESCMAE         312\n",
              "QTDFILVIVO    1573\n",
              "GESTACAO      1232\n",
              "GRAVIDEZ        79\n",
              "CONSULTAS        0\n",
              "APGAR5         103\n",
              "dtype: int64"
            ]
          },
          "metadata": {},
          "execution_count": 3
        }
      ],
      "source": [
        "# 3) seu código aqui\n",
        "df[['LOCNASC', 'IDADEMAE', 'ESTCIVMAE', 'ESCMAE', 'QTDFILVIVO', 'GESTACAO', 'GRAVIDEZ', 'CONSULTAS', 'APGAR5']].isna().sum()"
      ]
    },
    {
      "cell_type": "code",
      "execution_count": 4,
      "metadata": {
        "colab": {
          "base_uri": "https://localhost:8080/"
        },
        "id": "waOvRAugVq0y",
        "outputId": "af541603-4a2e-4488-aee1-f406e1698b2c"
      },
      "outputs": [
        {
          "output_type": "execute_result",
          "data": {
            "text/plain": [
              "(27028,)"
            ]
          },
          "metadata": {},
          "execution_count": 4
        }
      ],
      "source": [
        "# 4) seu código aqui\n",
        "df['APGAR5'].shape\n"
      ]
    },
    {
      "cell_type": "code",
      "source": [
        "#dados faltantes\n",
        "df['APGAR5'].isna().sum()"
      ],
      "metadata": {
        "colab": {
          "base_uri": "https://localhost:8080/"
        },
        "id": "xgzbYKjrf4et",
        "outputId": "dd332dd3-84e1-450c-dcc9-99e57458168a"
      },
      "execution_count": 5,
      "outputs": [
        {
          "output_type": "execute_result",
          "data": {
            "text/plain": [
              "103"
            ]
          },
          "metadata": {},
          "execution_count": 5
        }
      ]
    },
    {
      "cell_type": "code",
      "source": [
        "#APAGANDO DADOS FALTANTES\n",
        "df_APGAR5 = df['APGAR5'].dropna()"
      ],
      "metadata": {
        "id": "gYFUeTMOd9ll"
      },
      "execution_count": 9,
      "outputs": []
    },
    {
      "cell_type": "code",
      "source": [
        "#tamanho do novo dataframe\n",
        "df_APGAR5.shape"
      ],
      "metadata": {
        "colab": {
          "base_uri": "https://localhost:8080/"
        },
        "id": "lQbwOi3iiV8a",
        "outputId": "5a4e2ee7-e710-4b55-b0d6-28d30652c697"
      },
      "execution_count": 10,
      "outputs": [
        {
          "output_type": "execute_result",
          "data": {
            "text/plain": [
              "(26925,)"
            ]
          },
          "metadata": {},
          "execution_count": 10
        }
      ]
    },
    {
      "cell_type": "code",
      "execution_count": 16,
      "metadata": {
        "colab": {
          "base_uri": "https://localhost:8080/"
        },
        "id": "nMTnk_CEVq0y",
        "outputId": "80bce7ce-5e46-4c26-ab8f-c79fa1424056"
      },
      "outputs": [
        {
          "output_type": "execute_result",
          "data": {
            "text/plain": [
              "317"
            ]
          },
          "metadata": {},
          "execution_count": 16
        }
      ],
      "source": [
        "# 5) seu código aqui\n",
        "df['ESTCIVMAE'].isna().sum()"
      ]
    },
    {
      "cell_type": "code",
      "source": [
        "df['CONSULTAS'].isna().sum()"
      ],
      "metadata": {
        "colab": {
          "base_uri": "https://localhost:8080/"
        },
        "id": "vhl3PGe9mOTS",
        "outputId": "1c0cb0ef-bafa-49b9-8310-42d103451420"
      },
      "execution_count": 17,
      "outputs": [
        {
          "output_type": "execute_result",
          "data": {
            "text/plain": [
              "0"
            ]
          },
          "metadata": {},
          "execution_count": 17
        }
      ]
    },
    {
      "cell_type": "code",
      "source": [
        "df_ESTCIVMAE = df['ESTCIVMAE'].fillna(9)\n",
        "df_ESTCIVMAE.isna().sum()"
      ],
      "metadata": {
        "colab": {
          "base_uri": "https://localhost:8080/"
        },
        "id": "uSZuWM5LmVn1",
        "outputId": "e2f397fa-297a-4e66-d317-be50e5bbb495"
      },
      "execution_count": 19,
      "outputs": [
        {
          "output_type": "execute_result",
          "data": {
            "text/plain": [
              "0"
            ]
          },
          "metadata": {},
          "execution_count": 19
        }
      ]
    },
    {
      "cell_type": "code",
      "execution_count": 34,
      "metadata": {
        "colab": {
          "base_uri": "https://localhost:8080/"
        },
        "id": "FefMtoyeVq0y",
        "outputId": "be669e10-9cca-4ab7-8a54-9895d33d1de4"
      },
      "outputs": [
        {
          "output_type": "execute_result",
          "data": {
            "text/plain": [
              "1573"
            ]
          },
          "metadata": {},
          "execution_count": 34
        }
      ],
      "source": [
        "# 6) Seu código aqui\n",
        "# qtd valores faltantes\n",
        "df['QTDFILVIVO'].isna().sum()"
      ]
    },
    {
      "cell_type": "code",
      "source": [
        "# nova variável preenchendo dados faltantes com 0\n",
        "df_QTDFILVIVO = df['QTDFILVIVO'].fillna(0)\n"
      ],
      "metadata": {
        "id": "4UfSr6YpnArD"
      },
      "execution_count": 29,
      "outputs": []
    },
    {
      "cell_type": "code",
      "source": [
        "# qtd dados faltantes\n",
        "df_QTDFILVIVO.isna().sum()"
      ],
      "metadata": {
        "colab": {
          "base_uri": "https://localhost:8080/"
        },
        "id": "S-57EeTum9Pu",
        "outputId": "079ca1ab-cc80-4633-cd58-da07b260e236"
      },
      "execution_count": 32,
      "outputs": [
        {
          "output_type": "execute_result",
          "data": {
            "text/plain": [
              "0"
            ]
          },
          "metadata": {},
          "execution_count": 32
        }
      ]
    },
    {
      "cell_type": "code",
      "source": [],
      "metadata": {
        "colab": {
          "base_uri": "https://localhost:8080/"
        },
        "id": "Xdd8MiEWn0vc",
        "outputId": "82958395-5a85-4794-99f8-7afcbc22674b"
      },
      "execution_count": 33,
      "outputs": [
        {
          "output_type": "execute_result",
          "data": {
            "text/plain": [
              "0        0.0\n",
              "1        1.0\n",
              "2        2.0\n",
              "3        0.0\n",
              "4        1.0\n",
              "        ... \n",
              "27023    1.0\n",
              "27024    0.0\n",
              "27025    0.0\n",
              "27026    1.0\n",
              "27027    1.0\n",
              "Name: QTDFILVIVO, Length: 27028, dtype: float64"
            ]
          },
          "metadata": {},
          "execution_count": 33
        }
      ]
    },
    {
      "cell_type": "code",
      "execution_count": 37,
      "metadata": {
        "colab": {
          "base_uri": "https://localhost:8080/"
        },
        "id": "LMg0STwhVq0z",
        "outputId": "c316ce91-e5f7-4e1b-e7b8-822103f67770"
      },
      "outputs": [
        {
          "output_type": "execute_result",
          "data": {
            "text/plain": [
              "0"
            ]
          },
          "metadata": {},
          "execution_count": 37
        }
      ],
      "source": [
        "# 7) seu código aqui\n",
        "# Dados sobre a escolaridade\n",
        "df_ESCMAE = df['ESCMAE'].fillna(9)\n",
        "\n",
        "# escolhi preencher por 9, porque o número 0 não faria sentido nesse contexto,\n",
        "# nem fazer alguma média do valor escolhido para escolaridade."
      ]
    },
    {
      "cell_type": "code",
      "source": [
        "df['GESTACAO'].value_counts()"
      ],
      "metadata": {
        "colab": {
          "base_uri": "https://localhost:8080/"
        },
        "id": "ZqBXWuCrpTA9",
        "outputId": "a92532d6-e1ce-4aaa-f86c-2181eba25454"
      },
      "execution_count": 47,
      "outputs": [
        {
          "output_type": "execute_result",
          "data": {
            "text/plain": [
              "37 a 41 semanas        22589\n",
              "32 a 36 semanas         2249\n",
              "42 semanas e mais        700\n",
              "28 a 31 semanas          165\n",
              "22 a 27 semanas           86\n",
              "Menos de 22 semanas        7\n",
              "Name: GESTACAO, dtype: int64"
            ]
          },
          "metadata": {},
          "execution_count": 47
        }
      ]
    },
    {
      "cell_type": "code",
      "source": [
        "df_GESTACAO = df['GESTACAO'].fillna('37 a 41 semanas')\n",
        "df_GESTACAO.isna().sum()\n",
        "\n",
        "# NA COLUNA DE GESTAÇÃO, RESOLVI TROCAR PELA QUANTIDADE DE SEMANAS QUE TEM MAIS\n",
        "# FREQUÊNCIA, POR SER ALGO BIOLÓGICO."
      ],
      "metadata": {
        "colab": {
          "base_uri": "https://localhost:8080/"
        },
        "id": "RgvMjlmvrdeD",
        "outputId": "7494727a-2019-4f5c-fb93-8be49832d957"
      },
      "execution_count": 49,
      "outputs": [
        {
          "output_type": "execute_result",
          "data": {
            "text/plain": [
              "0        37 a 41 semanas\n",
              "1        37 a 41 semanas\n",
              "2        37 a 41 semanas\n",
              "3        37 a 41 semanas\n",
              "4        37 a 41 semanas\n",
              "              ...       \n",
              "27023    32 a 36 semanas\n",
              "27024    37 a 41 semanas\n",
              "27025    37 a 41 semanas\n",
              "27026    32 a 36 semanas\n",
              "27027    37 a 41 semanas\n",
              "Name: GESTACAO, Length: 27028, dtype: object"
            ]
          },
          "metadata": {},
          "execution_count": 49
        }
      ]
    },
    {
      "cell_type": "code",
      "source": [
        "df['GRAVIDEZ'].value_counts()\n"
      ],
      "metadata": {
        "colab": {
          "base_uri": "https://localhost:8080/"
        },
        "id": "MFbvsnWgsG5R",
        "outputId": "fab48cc5-d94f-42a4-f950-ab8d7b0039d4"
      },
      "execution_count": 51,
      "outputs": [
        {
          "output_type": "execute_result",
          "data": {
            "text/plain": [
              "Única              26452\n",
              "Dupla                492\n",
              "Tríplice e mais        5\n",
              "Name: GRAVIDEZ, dtype: int64"
            ]
          },
          "metadata": {},
          "execution_count": 51
        }
      ]
    },
    {
      "cell_type": "code",
      "source": [
        "df_GRAVIDEZ = df['GRAVIDEZ'].fillna('Única')\n",
        "df_GRAVIDEZ.isna().sum()\n",
        "\n",
        "# AQUI SEGUI A MESMA LÓGICA DA TABELA DE GESTAÇÃO."
      ],
      "metadata": {
        "colab": {
          "base_uri": "https://localhost:8080/"
        },
        "id": "4b4tHRa6sSz0",
        "outputId": "d21e1e5c-92d4-4112-c27f-824167a2d52b"
      },
      "execution_count": 52,
      "outputs": [
        {
          "output_type": "execute_result",
          "data": {
            "text/plain": [
              "0"
            ]
          },
          "metadata": {},
          "execution_count": 52
        }
      ]
    },
    {
      "cell_type": "code",
      "execution_count": 98,
      "metadata": {
        "colab": {
          "base_uri": "https://localhost:8080/"
        },
        "id": "lAhpb2lMVq0z",
        "outputId": "e65e7931-7b23-4ea4-be57-b8cf8b7060eb"
      },
      "outputs": [
        {
          "output_type": "execute_result",
          "data": {
            "text/plain": [
              "96"
            ]
          },
          "metadata": {},
          "execution_count": 98
        }
      ],
      "source": [
        "# 8) seu código aqui\n",
        "df['APGAR1'].isna().sum()\n"
      ]
    },
    {
      "cell_type": "code",
      "source": [
        "df_APGAR1 = df['APGAR1'].dropna()\n"
      ],
      "metadata": {
        "id": "mYTQoR61t6JR"
      },
      "execution_count": 99,
      "outputs": []
    },
    {
      "cell_type": "code",
      "source": [
        "# novo dataframe com as linhas faltantes deletadas\n",
        "df_APGAR1 = pd.DataFrame(df_APGAR1)"
      ],
      "metadata": {
        "id": "cyT24ccDw7r9"
      },
      "execution_count": 100,
      "outputs": []
    },
    {
      "cell_type": "code",
      "source": [
        "df_APGAR1"
      ],
      "metadata": {
        "colab": {
          "base_uri": "https://localhost:8080/",
          "height": 423
        },
        "id": "5APbDvuexOAV",
        "outputId": "6e274afc-6c2c-405f-c6f9-79c027519081"
      },
      "execution_count": 101,
      "outputs": [
        {
          "output_type": "execute_result",
          "data": {
            "text/plain": [
              "       APGAR1\n",
              "0         9.0\n",
              "1         8.0\n",
              "2         8.0\n",
              "3         9.0\n",
              "4         8.0\n",
              "...       ...\n",
              "27023     8.0\n",
              "27024     8.0\n",
              "27025     9.0\n",
              "27026     8.0\n",
              "27027     7.0\n",
              "\n",
              "[26932 rows x 1 columns]"
            ],
            "text/html": [
              "\n",
              "  <div id=\"df-959bde43-e298-4fea-8e1d-0515dc91f018\" class=\"colab-df-container\">\n",
              "    <div>\n",
              "<style scoped>\n",
              "    .dataframe tbody tr th:only-of-type {\n",
              "        vertical-align: middle;\n",
              "    }\n",
              "\n",
              "    .dataframe tbody tr th {\n",
              "        vertical-align: top;\n",
              "    }\n",
              "\n",
              "    .dataframe thead th {\n",
              "        text-align: right;\n",
              "    }\n",
              "</style>\n",
              "<table border=\"1\" class=\"dataframe\">\n",
              "  <thead>\n",
              "    <tr style=\"text-align: right;\">\n",
              "      <th></th>\n",
              "      <th>APGAR1</th>\n",
              "    </tr>\n",
              "  </thead>\n",
              "  <tbody>\n",
              "    <tr>\n",
              "      <th>0</th>\n",
              "      <td>9.0</td>\n",
              "    </tr>\n",
              "    <tr>\n",
              "      <th>1</th>\n",
              "      <td>8.0</td>\n",
              "    </tr>\n",
              "    <tr>\n",
              "      <th>2</th>\n",
              "      <td>8.0</td>\n",
              "    </tr>\n",
              "    <tr>\n",
              "      <th>3</th>\n",
              "      <td>9.0</td>\n",
              "    </tr>\n",
              "    <tr>\n",
              "      <th>4</th>\n",
              "      <td>8.0</td>\n",
              "    </tr>\n",
              "    <tr>\n",
              "      <th>...</th>\n",
              "      <td>...</td>\n",
              "    </tr>\n",
              "    <tr>\n",
              "      <th>27023</th>\n",
              "      <td>8.0</td>\n",
              "    </tr>\n",
              "    <tr>\n",
              "      <th>27024</th>\n",
              "      <td>8.0</td>\n",
              "    </tr>\n",
              "    <tr>\n",
              "      <th>27025</th>\n",
              "      <td>9.0</td>\n",
              "    </tr>\n",
              "    <tr>\n",
              "      <th>27026</th>\n",
              "      <td>8.0</td>\n",
              "    </tr>\n",
              "    <tr>\n",
              "      <th>27027</th>\n",
              "      <td>7.0</td>\n",
              "    </tr>\n",
              "  </tbody>\n",
              "</table>\n",
              "<p>26932 rows × 1 columns</p>\n",
              "</div>\n",
              "    <div class=\"colab-df-buttons\">\n",
              "\n",
              "  <div class=\"colab-df-container\">\n",
              "    <button class=\"colab-df-convert\" onclick=\"convertToInteractive('df-959bde43-e298-4fea-8e1d-0515dc91f018')\"\n",
              "            title=\"Convert this dataframe to an interactive table.\"\n",
              "            style=\"display:none;\">\n",
              "\n",
              "  <svg xmlns=\"http://www.w3.org/2000/svg\" height=\"24px\" viewBox=\"0 -960 960 960\">\n",
              "    <path d=\"M120-120v-720h720v720H120Zm60-500h600v-160H180v160Zm220 220h160v-160H400v160Zm0 220h160v-160H400v160ZM180-400h160v-160H180v160Zm440 0h160v-160H620v160ZM180-180h160v-160H180v160Zm440 0h160v-160H620v160Z\"/>\n",
              "  </svg>\n",
              "    </button>\n",
              "\n",
              "  <style>\n",
              "    .colab-df-container {\n",
              "      display:flex;\n",
              "      gap: 12px;\n",
              "    }\n",
              "\n",
              "    .colab-df-convert {\n",
              "      background-color: #E8F0FE;\n",
              "      border: none;\n",
              "      border-radius: 50%;\n",
              "      cursor: pointer;\n",
              "      display: none;\n",
              "      fill: #1967D2;\n",
              "      height: 32px;\n",
              "      padding: 0 0 0 0;\n",
              "      width: 32px;\n",
              "    }\n",
              "\n",
              "    .colab-df-convert:hover {\n",
              "      background-color: #E2EBFA;\n",
              "      box-shadow: 0px 1px 2px rgba(60, 64, 67, 0.3), 0px 1px 3px 1px rgba(60, 64, 67, 0.15);\n",
              "      fill: #174EA6;\n",
              "    }\n",
              "\n",
              "    .colab-df-buttons div {\n",
              "      margin-bottom: 4px;\n",
              "    }\n",
              "\n",
              "    [theme=dark] .colab-df-convert {\n",
              "      background-color: #3B4455;\n",
              "      fill: #D2E3FC;\n",
              "    }\n",
              "\n",
              "    [theme=dark] .colab-df-convert:hover {\n",
              "      background-color: #434B5C;\n",
              "      box-shadow: 0px 1px 3px 1px rgba(0, 0, 0, 0.15);\n",
              "      filter: drop-shadow(0px 1px 2px rgba(0, 0, 0, 0.3));\n",
              "      fill: #FFFFFF;\n",
              "    }\n",
              "  </style>\n",
              "\n",
              "    <script>\n",
              "      const buttonEl =\n",
              "        document.querySelector('#df-959bde43-e298-4fea-8e1d-0515dc91f018 button.colab-df-convert');\n",
              "      buttonEl.style.display =\n",
              "        google.colab.kernel.accessAllowed ? 'block' : 'none';\n",
              "\n",
              "      async function convertToInteractive(key) {\n",
              "        const element = document.querySelector('#df-959bde43-e298-4fea-8e1d-0515dc91f018');\n",
              "        const dataTable =\n",
              "          await google.colab.kernel.invokeFunction('convertToInteractive',\n",
              "                                                    [key], {});\n",
              "        if (!dataTable) return;\n",
              "\n",
              "        const docLinkHtml = 'Like what you see? Visit the ' +\n",
              "          '<a target=\"_blank\" href=https://colab.research.google.com/notebooks/data_table.ipynb>data table notebook</a>'\n",
              "          + ' to learn more about interactive tables.';\n",
              "        element.innerHTML = '';\n",
              "        dataTable['output_type'] = 'display_data';\n",
              "        await google.colab.output.renderOutput(dataTable, element);\n",
              "        const docLink = document.createElement('div');\n",
              "        docLink.innerHTML = docLinkHtml;\n",
              "        element.appendChild(docLink);\n",
              "      }\n",
              "    </script>\n",
              "  </div>\n",
              "\n",
              "\n",
              "<div id=\"df-2ead57e4-0ccc-42be-8962-e83b1d2d3c90\">\n",
              "  <button class=\"colab-df-quickchart\" onclick=\"quickchart('df-2ead57e4-0ccc-42be-8962-e83b1d2d3c90')\"\n",
              "            title=\"Suggest charts.\"\n",
              "            style=\"display:none;\">\n",
              "\n",
              "<svg xmlns=\"http://www.w3.org/2000/svg\" height=\"24px\"viewBox=\"0 0 24 24\"\n",
              "     width=\"24px\">\n",
              "    <g>\n",
              "        <path d=\"M19 3H5c-1.1 0-2 .9-2 2v14c0 1.1.9 2 2 2h14c1.1 0 2-.9 2-2V5c0-1.1-.9-2-2-2zM9 17H7v-7h2v7zm4 0h-2V7h2v10zm4 0h-2v-4h2v4z\"/>\n",
              "    </g>\n",
              "</svg>\n",
              "  </button>\n",
              "\n",
              "<style>\n",
              "  .colab-df-quickchart {\n",
              "      --bg-color: #E8F0FE;\n",
              "      --fill-color: #1967D2;\n",
              "      --hover-bg-color: #E2EBFA;\n",
              "      --hover-fill-color: #174EA6;\n",
              "      --disabled-fill-color: #AAA;\n",
              "      --disabled-bg-color: #DDD;\n",
              "  }\n",
              "\n",
              "  [theme=dark] .colab-df-quickchart {\n",
              "      --bg-color: #3B4455;\n",
              "      --fill-color: #D2E3FC;\n",
              "      --hover-bg-color: #434B5C;\n",
              "      --hover-fill-color: #FFFFFF;\n",
              "      --disabled-bg-color: #3B4455;\n",
              "      --disabled-fill-color: #666;\n",
              "  }\n",
              "\n",
              "  .colab-df-quickchart {\n",
              "    background-color: var(--bg-color);\n",
              "    border: none;\n",
              "    border-radius: 50%;\n",
              "    cursor: pointer;\n",
              "    display: none;\n",
              "    fill: var(--fill-color);\n",
              "    height: 32px;\n",
              "    padding: 0;\n",
              "    width: 32px;\n",
              "  }\n",
              "\n",
              "  .colab-df-quickchart:hover {\n",
              "    background-color: var(--hover-bg-color);\n",
              "    box-shadow: 0 1px 2px rgba(60, 64, 67, 0.3), 0 1px 3px 1px rgba(60, 64, 67, 0.15);\n",
              "    fill: var(--button-hover-fill-color);\n",
              "  }\n",
              "\n",
              "  .colab-df-quickchart-complete:disabled,\n",
              "  .colab-df-quickchart-complete:disabled:hover {\n",
              "    background-color: var(--disabled-bg-color);\n",
              "    fill: var(--disabled-fill-color);\n",
              "    box-shadow: none;\n",
              "  }\n",
              "\n",
              "  .colab-df-spinner {\n",
              "    border: 2px solid var(--fill-color);\n",
              "    border-color: transparent;\n",
              "    border-bottom-color: var(--fill-color);\n",
              "    animation:\n",
              "      spin 1s steps(1) infinite;\n",
              "  }\n",
              "\n",
              "  @keyframes spin {\n",
              "    0% {\n",
              "      border-color: transparent;\n",
              "      border-bottom-color: var(--fill-color);\n",
              "      border-left-color: var(--fill-color);\n",
              "    }\n",
              "    20% {\n",
              "      border-color: transparent;\n",
              "      border-left-color: var(--fill-color);\n",
              "      border-top-color: var(--fill-color);\n",
              "    }\n",
              "    30% {\n",
              "      border-color: transparent;\n",
              "      border-left-color: var(--fill-color);\n",
              "      border-top-color: var(--fill-color);\n",
              "      border-right-color: var(--fill-color);\n",
              "    }\n",
              "    40% {\n",
              "      border-color: transparent;\n",
              "      border-right-color: var(--fill-color);\n",
              "      border-top-color: var(--fill-color);\n",
              "    }\n",
              "    60% {\n",
              "      border-color: transparent;\n",
              "      border-right-color: var(--fill-color);\n",
              "    }\n",
              "    80% {\n",
              "      border-color: transparent;\n",
              "      border-right-color: var(--fill-color);\n",
              "      border-bottom-color: var(--fill-color);\n",
              "    }\n",
              "    90% {\n",
              "      border-color: transparent;\n",
              "      border-bottom-color: var(--fill-color);\n",
              "    }\n",
              "  }\n",
              "</style>\n",
              "\n",
              "  <script>\n",
              "    async function quickchart(key) {\n",
              "      const quickchartButtonEl =\n",
              "        document.querySelector('#' + key + ' button');\n",
              "      quickchartButtonEl.disabled = true;  // To prevent multiple clicks.\n",
              "      quickchartButtonEl.classList.add('colab-df-spinner');\n",
              "      try {\n",
              "        const charts = await google.colab.kernel.invokeFunction(\n",
              "            'suggestCharts', [key], {});\n",
              "      } catch (error) {\n",
              "        console.error('Error during call to suggestCharts:', error);\n",
              "      }\n",
              "      quickchartButtonEl.classList.remove('colab-df-spinner');\n",
              "      quickchartButtonEl.classList.add('colab-df-quickchart-complete');\n",
              "    }\n",
              "    (() => {\n",
              "      let quickchartButtonEl =\n",
              "        document.querySelector('#df-2ead57e4-0ccc-42be-8962-e83b1d2d3c90 button');\n",
              "      quickchartButtonEl.style.display =\n",
              "        google.colab.kernel.accessAllowed ? 'block' : 'none';\n",
              "    })();\n",
              "  </script>\n",
              "</div>\n",
              "    </div>\n",
              "  </div>\n"
            ]
          },
          "metadata": {},
          "execution_count": 101
        }
      ]
    },
    {
      "cell_type": "code",
      "source": [
        "#definindo categorização para cara nível de asfixia e criando nova coluna\n",
        "\n",
        "df_APGAR1.loc[df_APGAR1['APGAR1'] <= 3, 'APGAR1_CAT'] = 'asfixia severa'\n",
        "df_APGAR1.loc[(df_APGAR1['APGAR1'] > 3) & (df_APGAR1['APGAR1'] <= 5), 'APGAR1_CAT'] = 'asfixia moderada'\n",
        "df_APGAR1.loc[(df_APGAR1['APGAR1'] > 5) & (df_APGAR1['APGAR1'] <= 7), 'APGAR1_CAT'] = 'asfixia leve'\n",
        "df_APGAR1.loc[df_APGAR1['APGAR1'] >= 8, 'APGAR1_CAT'] = 'normal'"
      ],
      "metadata": {
        "id": "CRfeb7dStiU_"
      },
      "execution_count": 102,
      "outputs": []
    },
    {
      "cell_type": "code",
      "source": [
        "#frequência de cada categorização\n",
        "df_APGAR1['APGAR1_CAT'].value_counts()"
      ],
      "metadata": {
        "colab": {
          "base_uri": "https://localhost:8080/"
        },
        "id": "mPCqbZnbxXdp",
        "outputId": "b782074a-ff6e-47b6-d3fd-493096d598ca"
      },
      "execution_count": 103,
      "outputs": [
        {
          "output_type": "execute_result",
          "data": {
            "text/plain": [
              "normal              23802\n",
              "asfixia leve         2523\n",
              "asfixia moderada      376\n",
              "asfixia severa        231\n",
              "Name: APGAR1_CAT, dtype: int64"
            ]
          },
          "metadata": {},
          "execution_count": 103
        }
      ]
    },
    {
      "cell_type": "code",
      "execution_count": 105,
      "metadata": {
        "colab": {
          "base_uri": "https://localhost:8080/",
          "height": 704
        },
        "id": "TR2loQiJVq00",
        "outputId": "60f5a5f9-6c18-40d2-f57d-471800922da6"
      },
      "outputs": [
        {
          "output_type": "execute_result",
          "data": {
            "text/plain": [
              "       origem   codestab  codmunnasc  locnasc  idademae  estcivmae  \\\n",
              "0           1  2679477.0      110001        1        19        5.0   \n",
              "1           1  2679477.0      110001        1        29        2.0   \n",
              "2           1  2679477.0      110001        1        37        9.0   \n",
              "3           1  2516500.0      110001        1        30        5.0   \n",
              "4           1  2516500.0      110001        1        30        2.0   \n",
              "...       ...        ...         ...      ...       ...        ...   \n",
              "27023       1  2604388.0      510340        1        32        2.0   \n",
              "27024       1  2752654.0      510675        1        19        1.0   \n",
              "27025       1  9659366.0      510787        1        24        2.0   \n",
              "27026       1  9659366.0      510787        1        21        2.0   \n",
              "27027       1  2795655.0      510792        1        18        5.0   \n",
              "\n",
              "                escmae  codocupmae  qtdfilvivo  qtdfilmort  ...  kotelchuck  \\\n",
              "0          8 a 11 anos         NaN         0.0         0.0  ...           5   \n",
              "1          8 a 11 anos    999992.0         1.0         0.0  ...           5   \n",
              "2          8 a 11 anos    513205.0         2.0         0.0  ...           5   \n",
              "3      12 anos ou mais    231205.0         0.0         0.0  ...           4   \n",
              "4          8 a 11 anos    999992.0         1.0         0.0  ...           5   \n",
              "...                ...         ...         ...         ...  ...         ...   \n",
              "27023  12 anos ou mais    333115.0         1.0         0.0  ...           5   \n",
              "27024      8 a 11 anos    999992.0         0.0         0.0  ...           5   \n",
              "27025      8 a 11 anos    421125.0         0.0         1.0  ...           5   \n",
              "27026      8 a 11 anos    999992.0         1.0         0.0  ...           5   \n",
              "27027      8 a 11 anos    999992.0         1.0         0.0  ...           5   \n",
              "\n",
              "      contador munresstatus munrestipo               munresnome  munresuf  \\\n",
              "0            1        ATIVO      MUNIC    Alta Floresta D'Oeste  Rondônia   \n",
              "1            2        ATIVO      MUNIC    Alta Floresta D'Oeste  Rondônia   \n",
              "2            3        ATIVO      MUNIC    Alta Floresta D'Oeste  Rondônia   \n",
              "3            4        ATIVO      MUNIC  Alto Alegre dos Parecis  Rondônia   \n",
              "4            5        ATIVO      MUNIC    Alta Floresta D'Oeste  Rondônia   \n",
              "...        ...          ...        ...                      ...       ...   \n",
              "27023  2767632        ATIVO      MUNIC                  Vilhena  Rondônia   \n",
              "27024  2772678        ATIVO      MUNIC              Chupinguaia  Rondônia   \n",
              "27025  2776905        ATIVO      MUNIC                  Vilhena  Rondônia   \n",
              "27026  2777105        ATIVO      MUNIC                  Vilhena  Rondônia   \n",
              "27027  2780269        ATIVO      MUNIC  Novo Horizonte do Oeste  Rondônia   \n",
              "\n",
              "       munreslat munreslon  munresalt  munresarea  \n",
              "0      -11.93554 -61.99982      338.0    7067.025  \n",
              "1      -11.93554 -61.99982      338.0    7067.025  \n",
              "2      -11.93554 -61.99982      338.0    7067.025  \n",
              "3      -12.13178 -61.85308      397.0    3958.273  \n",
              "4      -11.93554 -61.99982      338.0    7067.025  \n",
              "...          ...       ...        ...         ...  \n",
              "27023  -12.74137 -60.13858      595.0   11518.915  \n",
              "27024  -12.55684 -60.90185      340.0    5126.723  \n",
              "27025  -12.74137 -60.13858      595.0   11518.915  \n",
              "27026  -12.74137 -60.13858      595.0   11518.915  \n",
              "27027  -11.70974 -61.99439      230.0     843.446  \n",
              "\n",
              "[27028 rows x 69 columns]"
            ],
            "text/html": [
              "\n",
              "  <div id=\"df-6d8ea38c-c2dc-4e3b-8c6c-22cda269d493\" class=\"colab-df-container\">\n",
              "    <div>\n",
              "<style scoped>\n",
              "    .dataframe tbody tr th:only-of-type {\n",
              "        vertical-align: middle;\n",
              "    }\n",
              "\n",
              "    .dataframe tbody tr th {\n",
              "        vertical-align: top;\n",
              "    }\n",
              "\n",
              "    .dataframe thead th {\n",
              "        text-align: right;\n",
              "    }\n",
              "</style>\n",
              "<table border=\"1\" class=\"dataframe\">\n",
              "  <thead>\n",
              "    <tr style=\"text-align: right;\">\n",
              "      <th></th>\n",
              "      <th>origem</th>\n",
              "      <th>codestab</th>\n",
              "      <th>codmunnasc</th>\n",
              "      <th>locnasc</th>\n",
              "      <th>idademae</th>\n",
              "      <th>estcivmae</th>\n",
              "      <th>escmae</th>\n",
              "      <th>codocupmae</th>\n",
              "      <th>qtdfilvivo</th>\n",
              "      <th>qtdfilmort</th>\n",
              "      <th>...</th>\n",
              "      <th>kotelchuck</th>\n",
              "      <th>contador</th>\n",
              "      <th>munresstatus</th>\n",
              "      <th>munrestipo</th>\n",
              "      <th>munresnome</th>\n",
              "      <th>munresuf</th>\n",
              "      <th>munreslat</th>\n",
              "      <th>munreslon</th>\n",
              "      <th>munresalt</th>\n",
              "      <th>munresarea</th>\n",
              "    </tr>\n",
              "  </thead>\n",
              "  <tbody>\n",
              "    <tr>\n",
              "      <th>0</th>\n",
              "      <td>1</td>\n",
              "      <td>2679477.0</td>\n",
              "      <td>110001</td>\n",
              "      <td>1</td>\n",
              "      <td>19</td>\n",
              "      <td>5.0</td>\n",
              "      <td>8 a 11 anos</td>\n",
              "      <td>NaN</td>\n",
              "      <td>0.0</td>\n",
              "      <td>0.0</td>\n",
              "      <td>...</td>\n",
              "      <td>5</td>\n",
              "      <td>1</td>\n",
              "      <td>ATIVO</td>\n",
              "      <td>MUNIC</td>\n",
              "      <td>Alta Floresta D'Oeste</td>\n",
              "      <td>Rondônia</td>\n",
              "      <td>-11.93554</td>\n",
              "      <td>-61.99982</td>\n",
              "      <td>338.0</td>\n",
              "      <td>7067.025</td>\n",
              "    </tr>\n",
              "    <tr>\n",
              "      <th>1</th>\n",
              "      <td>1</td>\n",
              "      <td>2679477.0</td>\n",
              "      <td>110001</td>\n",
              "      <td>1</td>\n",
              "      <td>29</td>\n",
              "      <td>2.0</td>\n",
              "      <td>8 a 11 anos</td>\n",
              "      <td>999992.0</td>\n",
              "      <td>1.0</td>\n",
              "      <td>0.0</td>\n",
              "      <td>...</td>\n",
              "      <td>5</td>\n",
              "      <td>2</td>\n",
              "      <td>ATIVO</td>\n",
              "      <td>MUNIC</td>\n",
              "      <td>Alta Floresta D'Oeste</td>\n",
              "      <td>Rondônia</td>\n",
              "      <td>-11.93554</td>\n",
              "      <td>-61.99982</td>\n",
              "      <td>338.0</td>\n",
              "      <td>7067.025</td>\n",
              "    </tr>\n",
              "    <tr>\n",
              "      <th>2</th>\n",
              "      <td>1</td>\n",
              "      <td>2679477.0</td>\n",
              "      <td>110001</td>\n",
              "      <td>1</td>\n",
              "      <td>37</td>\n",
              "      <td>9.0</td>\n",
              "      <td>8 a 11 anos</td>\n",
              "      <td>513205.0</td>\n",
              "      <td>2.0</td>\n",
              "      <td>0.0</td>\n",
              "      <td>...</td>\n",
              "      <td>5</td>\n",
              "      <td>3</td>\n",
              "      <td>ATIVO</td>\n",
              "      <td>MUNIC</td>\n",
              "      <td>Alta Floresta D'Oeste</td>\n",
              "      <td>Rondônia</td>\n",
              "      <td>-11.93554</td>\n",
              "      <td>-61.99982</td>\n",
              "      <td>338.0</td>\n",
              "      <td>7067.025</td>\n",
              "    </tr>\n",
              "    <tr>\n",
              "      <th>3</th>\n",
              "      <td>1</td>\n",
              "      <td>2516500.0</td>\n",
              "      <td>110001</td>\n",
              "      <td>1</td>\n",
              "      <td>30</td>\n",
              "      <td>5.0</td>\n",
              "      <td>12 anos ou mais</td>\n",
              "      <td>231205.0</td>\n",
              "      <td>0.0</td>\n",
              "      <td>0.0</td>\n",
              "      <td>...</td>\n",
              "      <td>4</td>\n",
              "      <td>4</td>\n",
              "      <td>ATIVO</td>\n",
              "      <td>MUNIC</td>\n",
              "      <td>Alto Alegre dos Parecis</td>\n",
              "      <td>Rondônia</td>\n",
              "      <td>-12.13178</td>\n",
              "      <td>-61.85308</td>\n",
              "      <td>397.0</td>\n",
              "      <td>3958.273</td>\n",
              "    </tr>\n",
              "    <tr>\n",
              "      <th>4</th>\n",
              "      <td>1</td>\n",
              "      <td>2516500.0</td>\n",
              "      <td>110001</td>\n",
              "      <td>1</td>\n",
              "      <td>30</td>\n",
              "      <td>2.0</td>\n",
              "      <td>8 a 11 anos</td>\n",
              "      <td>999992.0</td>\n",
              "      <td>1.0</td>\n",
              "      <td>0.0</td>\n",
              "      <td>...</td>\n",
              "      <td>5</td>\n",
              "      <td>5</td>\n",
              "      <td>ATIVO</td>\n",
              "      <td>MUNIC</td>\n",
              "      <td>Alta Floresta D'Oeste</td>\n",
              "      <td>Rondônia</td>\n",
              "      <td>-11.93554</td>\n",
              "      <td>-61.99982</td>\n",
              "      <td>338.0</td>\n",
              "      <td>7067.025</td>\n",
              "    </tr>\n",
              "    <tr>\n",
              "      <th>...</th>\n",
              "      <td>...</td>\n",
              "      <td>...</td>\n",
              "      <td>...</td>\n",
              "      <td>...</td>\n",
              "      <td>...</td>\n",
              "      <td>...</td>\n",
              "      <td>...</td>\n",
              "      <td>...</td>\n",
              "      <td>...</td>\n",
              "      <td>...</td>\n",
              "      <td>...</td>\n",
              "      <td>...</td>\n",
              "      <td>...</td>\n",
              "      <td>...</td>\n",
              "      <td>...</td>\n",
              "      <td>...</td>\n",
              "      <td>...</td>\n",
              "      <td>...</td>\n",
              "      <td>...</td>\n",
              "      <td>...</td>\n",
              "      <td>...</td>\n",
              "    </tr>\n",
              "    <tr>\n",
              "      <th>27023</th>\n",
              "      <td>1</td>\n",
              "      <td>2604388.0</td>\n",
              "      <td>510340</td>\n",
              "      <td>1</td>\n",
              "      <td>32</td>\n",
              "      <td>2.0</td>\n",
              "      <td>12 anos ou mais</td>\n",
              "      <td>333115.0</td>\n",
              "      <td>1.0</td>\n",
              "      <td>0.0</td>\n",
              "      <td>...</td>\n",
              "      <td>5</td>\n",
              "      <td>2767632</td>\n",
              "      <td>ATIVO</td>\n",
              "      <td>MUNIC</td>\n",
              "      <td>Vilhena</td>\n",
              "      <td>Rondônia</td>\n",
              "      <td>-12.74137</td>\n",
              "      <td>-60.13858</td>\n",
              "      <td>595.0</td>\n",
              "      <td>11518.915</td>\n",
              "    </tr>\n",
              "    <tr>\n",
              "      <th>27024</th>\n",
              "      <td>1</td>\n",
              "      <td>2752654.0</td>\n",
              "      <td>510675</td>\n",
              "      <td>1</td>\n",
              "      <td>19</td>\n",
              "      <td>1.0</td>\n",
              "      <td>8 a 11 anos</td>\n",
              "      <td>999992.0</td>\n",
              "      <td>0.0</td>\n",
              "      <td>0.0</td>\n",
              "      <td>...</td>\n",
              "      <td>5</td>\n",
              "      <td>2772678</td>\n",
              "      <td>ATIVO</td>\n",
              "      <td>MUNIC</td>\n",
              "      <td>Chupinguaia</td>\n",
              "      <td>Rondônia</td>\n",
              "      <td>-12.55684</td>\n",
              "      <td>-60.90185</td>\n",
              "      <td>340.0</td>\n",
              "      <td>5126.723</td>\n",
              "    </tr>\n",
              "    <tr>\n",
              "      <th>27025</th>\n",
              "      <td>1</td>\n",
              "      <td>9659366.0</td>\n",
              "      <td>510787</td>\n",
              "      <td>1</td>\n",
              "      <td>24</td>\n",
              "      <td>2.0</td>\n",
              "      <td>8 a 11 anos</td>\n",
              "      <td>421125.0</td>\n",
              "      <td>0.0</td>\n",
              "      <td>1.0</td>\n",
              "      <td>...</td>\n",
              "      <td>5</td>\n",
              "      <td>2776905</td>\n",
              "      <td>ATIVO</td>\n",
              "      <td>MUNIC</td>\n",
              "      <td>Vilhena</td>\n",
              "      <td>Rondônia</td>\n",
              "      <td>-12.74137</td>\n",
              "      <td>-60.13858</td>\n",
              "      <td>595.0</td>\n",
              "      <td>11518.915</td>\n",
              "    </tr>\n",
              "    <tr>\n",
              "      <th>27026</th>\n",
              "      <td>1</td>\n",
              "      <td>9659366.0</td>\n",
              "      <td>510787</td>\n",
              "      <td>1</td>\n",
              "      <td>21</td>\n",
              "      <td>2.0</td>\n",
              "      <td>8 a 11 anos</td>\n",
              "      <td>999992.0</td>\n",
              "      <td>1.0</td>\n",
              "      <td>0.0</td>\n",
              "      <td>...</td>\n",
              "      <td>5</td>\n",
              "      <td>2777105</td>\n",
              "      <td>ATIVO</td>\n",
              "      <td>MUNIC</td>\n",
              "      <td>Vilhena</td>\n",
              "      <td>Rondônia</td>\n",
              "      <td>-12.74137</td>\n",
              "      <td>-60.13858</td>\n",
              "      <td>595.0</td>\n",
              "      <td>11518.915</td>\n",
              "    </tr>\n",
              "    <tr>\n",
              "      <th>27027</th>\n",
              "      <td>1</td>\n",
              "      <td>2795655.0</td>\n",
              "      <td>510792</td>\n",
              "      <td>1</td>\n",
              "      <td>18</td>\n",
              "      <td>5.0</td>\n",
              "      <td>8 a 11 anos</td>\n",
              "      <td>999992.0</td>\n",
              "      <td>1.0</td>\n",
              "      <td>0.0</td>\n",
              "      <td>...</td>\n",
              "      <td>5</td>\n",
              "      <td>2780269</td>\n",
              "      <td>ATIVO</td>\n",
              "      <td>MUNIC</td>\n",
              "      <td>Novo Horizonte do Oeste</td>\n",
              "      <td>Rondônia</td>\n",
              "      <td>-11.70974</td>\n",
              "      <td>-61.99439</td>\n",
              "      <td>230.0</td>\n",
              "      <td>843.446</td>\n",
              "    </tr>\n",
              "  </tbody>\n",
              "</table>\n",
              "<p>27028 rows × 69 columns</p>\n",
              "</div>\n",
              "    <div class=\"colab-df-buttons\">\n",
              "\n",
              "  <div class=\"colab-df-container\">\n",
              "    <button class=\"colab-df-convert\" onclick=\"convertToInteractive('df-6d8ea38c-c2dc-4e3b-8c6c-22cda269d493')\"\n",
              "            title=\"Convert this dataframe to an interactive table.\"\n",
              "            style=\"display:none;\">\n",
              "\n",
              "  <svg xmlns=\"http://www.w3.org/2000/svg\" height=\"24px\" viewBox=\"0 -960 960 960\">\n",
              "    <path d=\"M120-120v-720h720v720H120Zm60-500h600v-160H180v160Zm220 220h160v-160H400v160Zm0 220h160v-160H400v160ZM180-400h160v-160H180v160Zm440 0h160v-160H620v160ZM180-180h160v-160H180v160Zm440 0h160v-160H620v160Z\"/>\n",
              "  </svg>\n",
              "    </button>\n",
              "\n",
              "  <style>\n",
              "    .colab-df-container {\n",
              "      display:flex;\n",
              "      gap: 12px;\n",
              "    }\n",
              "\n",
              "    .colab-df-convert {\n",
              "      background-color: #E8F0FE;\n",
              "      border: none;\n",
              "      border-radius: 50%;\n",
              "      cursor: pointer;\n",
              "      display: none;\n",
              "      fill: #1967D2;\n",
              "      height: 32px;\n",
              "      padding: 0 0 0 0;\n",
              "      width: 32px;\n",
              "    }\n",
              "\n",
              "    .colab-df-convert:hover {\n",
              "      background-color: #E2EBFA;\n",
              "      box-shadow: 0px 1px 2px rgba(60, 64, 67, 0.3), 0px 1px 3px 1px rgba(60, 64, 67, 0.15);\n",
              "      fill: #174EA6;\n",
              "    }\n",
              "\n",
              "    .colab-df-buttons div {\n",
              "      margin-bottom: 4px;\n",
              "    }\n",
              "\n",
              "    [theme=dark] .colab-df-convert {\n",
              "      background-color: #3B4455;\n",
              "      fill: #D2E3FC;\n",
              "    }\n",
              "\n",
              "    [theme=dark] .colab-df-convert:hover {\n",
              "      background-color: #434B5C;\n",
              "      box-shadow: 0px 1px 3px 1px rgba(0, 0, 0, 0.15);\n",
              "      filter: drop-shadow(0px 1px 2px rgba(0, 0, 0, 0.3));\n",
              "      fill: #FFFFFF;\n",
              "    }\n",
              "  </style>\n",
              "\n",
              "    <script>\n",
              "      const buttonEl =\n",
              "        document.querySelector('#df-6d8ea38c-c2dc-4e3b-8c6c-22cda269d493 button.colab-df-convert');\n",
              "      buttonEl.style.display =\n",
              "        google.colab.kernel.accessAllowed ? 'block' : 'none';\n",
              "\n",
              "      async function convertToInteractive(key) {\n",
              "        const element = document.querySelector('#df-6d8ea38c-c2dc-4e3b-8c6c-22cda269d493');\n",
              "        const dataTable =\n",
              "          await google.colab.kernel.invokeFunction('convertToInteractive',\n",
              "                                                    [key], {});\n",
              "        if (!dataTable) return;\n",
              "\n",
              "        const docLinkHtml = 'Like what you see? Visit the ' +\n",
              "          '<a target=\"_blank\" href=https://colab.research.google.com/notebooks/data_table.ipynb>data table notebook</a>'\n",
              "          + ' to learn more about interactive tables.';\n",
              "        element.innerHTML = '';\n",
              "        dataTable['output_type'] = 'display_data';\n",
              "        await google.colab.output.renderOutput(dataTable, element);\n",
              "        const docLink = document.createElement('div');\n",
              "        docLink.innerHTML = docLinkHtml;\n",
              "        element.appendChild(docLink);\n",
              "      }\n",
              "    </script>\n",
              "  </div>\n",
              "\n",
              "\n",
              "<div id=\"df-1e4e72ce-7647-4781-8abd-7b13119631ee\">\n",
              "  <button class=\"colab-df-quickchart\" onclick=\"quickchart('df-1e4e72ce-7647-4781-8abd-7b13119631ee')\"\n",
              "            title=\"Suggest charts.\"\n",
              "            style=\"display:none;\">\n",
              "\n",
              "<svg xmlns=\"http://www.w3.org/2000/svg\" height=\"24px\"viewBox=\"0 0 24 24\"\n",
              "     width=\"24px\">\n",
              "    <g>\n",
              "        <path d=\"M19 3H5c-1.1 0-2 .9-2 2v14c0 1.1.9 2 2 2h14c1.1 0 2-.9 2-2V5c0-1.1-.9-2-2-2zM9 17H7v-7h2v7zm4 0h-2V7h2v10zm4 0h-2v-4h2v4z\"/>\n",
              "    </g>\n",
              "</svg>\n",
              "  </button>\n",
              "\n",
              "<style>\n",
              "  .colab-df-quickchart {\n",
              "      --bg-color: #E8F0FE;\n",
              "      --fill-color: #1967D2;\n",
              "      --hover-bg-color: #E2EBFA;\n",
              "      --hover-fill-color: #174EA6;\n",
              "      --disabled-fill-color: #AAA;\n",
              "      --disabled-bg-color: #DDD;\n",
              "  }\n",
              "\n",
              "  [theme=dark] .colab-df-quickchart {\n",
              "      --bg-color: #3B4455;\n",
              "      --fill-color: #D2E3FC;\n",
              "      --hover-bg-color: #434B5C;\n",
              "      --hover-fill-color: #FFFFFF;\n",
              "      --disabled-bg-color: #3B4455;\n",
              "      --disabled-fill-color: #666;\n",
              "  }\n",
              "\n",
              "  .colab-df-quickchart {\n",
              "    background-color: var(--bg-color);\n",
              "    border: none;\n",
              "    border-radius: 50%;\n",
              "    cursor: pointer;\n",
              "    display: none;\n",
              "    fill: var(--fill-color);\n",
              "    height: 32px;\n",
              "    padding: 0;\n",
              "    width: 32px;\n",
              "  }\n",
              "\n",
              "  .colab-df-quickchart:hover {\n",
              "    background-color: var(--hover-bg-color);\n",
              "    box-shadow: 0 1px 2px rgba(60, 64, 67, 0.3), 0 1px 3px 1px rgba(60, 64, 67, 0.15);\n",
              "    fill: var(--button-hover-fill-color);\n",
              "  }\n",
              "\n",
              "  .colab-df-quickchart-complete:disabled,\n",
              "  .colab-df-quickchart-complete:disabled:hover {\n",
              "    background-color: var(--disabled-bg-color);\n",
              "    fill: var(--disabled-fill-color);\n",
              "    box-shadow: none;\n",
              "  }\n",
              "\n",
              "  .colab-df-spinner {\n",
              "    border: 2px solid var(--fill-color);\n",
              "    border-color: transparent;\n",
              "    border-bottom-color: var(--fill-color);\n",
              "    animation:\n",
              "      spin 1s steps(1) infinite;\n",
              "  }\n",
              "\n",
              "  @keyframes spin {\n",
              "    0% {\n",
              "      border-color: transparent;\n",
              "      border-bottom-color: var(--fill-color);\n",
              "      border-left-color: var(--fill-color);\n",
              "    }\n",
              "    20% {\n",
              "      border-color: transparent;\n",
              "      border-left-color: var(--fill-color);\n",
              "      border-top-color: var(--fill-color);\n",
              "    }\n",
              "    30% {\n",
              "      border-color: transparent;\n",
              "      border-left-color: var(--fill-color);\n",
              "      border-top-color: var(--fill-color);\n",
              "      border-right-color: var(--fill-color);\n",
              "    }\n",
              "    40% {\n",
              "      border-color: transparent;\n",
              "      border-right-color: var(--fill-color);\n",
              "      border-top-color: var(--fill-color);\n",
              "    }\n",
              "    60% {\n",
              "      border-color: transparent;\n",
              "      border-right-color: var(--fill-color);\n",
              "    }\n",
              "    80% {\n",
              "      border-color: transparent;\n",
              "      border-right-color: var(--fill-color);\n",
              "      border-bottom-color: var(--fill-color);\n",
              "    }\n",
              "    90% {\n",
              "      border-color: transparent;\n",
              "      border-bottom-color: var(--fill-color);\n",
              "    }\n",
              "  }\n",
              "</style>\n",
              "\n",
              "  <script>\n",
              "    async function quickchart(key) {\n",
              "      const quickchartButtonEl =\n",
              "        document.querySelector('#' + key + ' button');\n",
              "      quickchartButtonEl.disabled = true;  // To prevent multiple clicks.\n",
              "      quickchartButtonEl.classList.add('colab-df-spinner');\n",
              "      try {\n",
              "        const charts = await google.colab.kernel.invokeFunction(\n",
              "            'suggestCharts', [key], {});\n",
              "      } catch (error) {\n",
              "        console.error('Error during call to suggestCharts:', error);\n",
              "      }\n",
              "      quickchartButtonEl.classList.remove('colab-df-spinner');\n",
              "      quickchartButtonEl.classList.add('colab-df-quickchart-complete');\n",
              "    }\n",
              "    (() => {\n",
              "      let quickchartButtonEl =\n",
              "        document.querySelector('#df-1e4e72ce-7647-4781-8abd-7b13119631ee button');\n",
              "      quickchartButtonEl.style.display =\n",
              "        google.colab.kernel.accessAllowed ? 'block' : 'none';\n",
              "    })();\n",
              "  </script>\n",
              "</div>\n",
              "    </div>\n",
              "  </div>\n"
            ]
          },
          "metadata": {},
          "execution_count": 105
        }
      ],
      "source": [
        "# 9) seu código aqui\n",
        "df.rename(columns=lambda x: x.lower().replace(\" \", \"_\"), inplace=True)\n",
        "df"
      ]
    }
  ],
  "metadata": {
    "kernelspec": {
      "display_name": "Python 3",
      "language": "python",
      "name": "python3"
    },
    "language_info": {
      "codemirror_mode": {
        "name": "ipython",
        "version": 3
      },
      "file_extension": ".py",
      "mimetype": "text/x-python",
      "name": "python",
      "nbconvert_exporter": "python",
      "pygments_lexer": "ipython3",
      "version": "3.8.5"
    },
    "colab": {
      "provenance": []
    }
  },
  "nbformat": 4,
  "nbformat_minor": 0
}
